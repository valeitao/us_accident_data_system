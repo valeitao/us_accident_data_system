{
 "cells": [
  {
   "cell_type": "markdown",
   "metadata": {},
   "source": [
    "## Phase 3\n",
    "\n",
    "Main goals:\n",
    "* To create meaningful OLAP queries that can help processes and stakeholders.\n",
    "* To identify bottlenecks and make performance analysis, discussing its growth.\n",
    "* To make a critical assessment of the whole project.\n",
    "\n",
    "Comments are written in Portuguese.\n",
    "\n",
    "\n",
    "-----------------------------"
   ]
  },
  {
   "cell_type": "markdown",
   "metadata": {},
   "source": [
    "#### Funções utilitárias"
   ]
  },
  {
   "cell_type": "code",
   "execution_count": 2,
   "metadata": {},
   "outputs": [],
   "source": [
    "import psycopg2 as pg\n",
    "import pandas as pd\n",
    "import matplotlib.pyplot as plt\n",
    "import numpy as np\n",
    "from IPython.display import Image\n",
    "from IPython.core.display import HTML\n",
    "\n",
    "HOST = \"10.101.151.25\"\n",
    "DATABASE = \"tpd017\"\n",
    "USER = \"tpd017\"\n",
    "PASSWORD = \"tpd017\" \n",
    "\n",
    "# Execute a single statement.\n",
    "def execute_single_sql_statement(sql):\n",
    "    conn = pg.connect(host=HOST,database=DATABASE, user=USER, password=PASSWORD)    \n",
    "    cur = conn.cursor()\n",
    "    cur.execute(sql)\n",
    "    cur.close()\n",
    "    conn.commit()\n",
    "    conn.close()    \n",
    "\n",
    "# Return output of query in dataframe\n",
    "def getSQLfromQuery(sql, params):\n",
    "    conn = pg.connect(host=HOST,database=DATABASE, user=USER, password=PASSWORD)\n",
    "    cur  = conn.cursor()    \n",
    "    if len(params)==0:\n",
    "        cur.execute(sql)\n",
    "    else: \n",
    "        cur.execute(sql, params)\n",
    "    data = cur.fetchall()\n",
    "    colnames = [desc[0] for desc in cur.description]\n",
    "    cur.close()\n",
    "    conn.close()\n",
    "    df=pandafy(data, colnames)\n",
    "    return df\n",
    "\n",
    "# Create a dataframe\n",
    "def pandafy(rows, colnames):\n",
    "    N=len(colnames)\n",
    "    D={cn: [] for cn in colnames}\n",
    "    for row in rows:\n",
    "        for i in range(N): D[colnames[i]].append(row[i])\n",
    "    pdfy=pd.DataFrame(D)\n",
    "    return pdfy\n"
   ]
  },
  {
   "cell_type": "markdown",
   "metadata": {},
   "source": [
    "## 1. Implementação de *queries* OLAP\n",
    "\n",
    "Para esta fase propomos um conjunto de interrogações que consideramos relevantes para o contexto deste *data warehouse*, sendo explicado os seus objetivos, as dimensões e atributos implicados nas interrogações, e a relevância para os processos de negócio interessados que foram referidos ao longo das fases anteriores. \n",
    "\n",
    "Também, dada a impossibilidade de criar *dashboards*, vamos também tentar propor para cada *query* uma possível visualização que ofereça uma outra abordagem para entender os resultados.\n",
    "\n",
    "-----------------"
   ]
  },
  {
   "cell_type": "markdown",
   "metadata": {},
   "source": [
    "1. **Há algum período do dia onde ocorrem mais acidentes? Este padrão ocorre de forma semelhante para as várias regiões dos EUA? Esses períodos correspondem a horas de maior movimento, como rush hours?**\n",
    "\n",
    "\n",
    "* **Objectivo da interrogação**: Analisar o número de ocorrências de acidentes ao nível da região e subregião (roll-up e drill-down) em relação ao período do dia.\n",
    "* **Dimensões relevantes para a query**:\n",
    "    * Facts Table: ligação entre as dimensões Location e LocalTIme (atributos `LocationKey` e `LocalTimeKey`)\n",
    "    * Location: para agrupar as ocorrências segundo os atributos `Region` e `Subregion`\n",
    "    * LocalTime: para agrupar as ocorrências segundo o atributo `PeriodOfDay`\n",
    "* **Relevância para quais processos?**\n",
    "    * Policiamento: dado o número de acidentes, adaptação de meios de vigiliância e cooperação\n",
    "\n",
    "**Interrogação**:\n",
    "\n",
    "``\n",
    "SELECT l.region, l.subregion, t.period_of_day, COUNT(*) AS number_of_accidents\n",
    "FROM local_time_dimension t, location_dimension l, facts_table ft\n",
    "WHERE t.local_time_key = ft.local_timekey AND l.location_key = ft.locationkey\n",
    "GROUP BY l.region, l.subregion, t.period_of_day\n",
    "ORDER BY l.region DESC\n",
    "``"
   ]
  },
  {
   "cell_type": "code",
   "execution_count": 3,
   "metadata": {},
   "outputs": [],
   "source": [
    "SQL = \"\"\"\n",
    "SELECT l.region, l.subregion, t.period_of_day, COUNT(*) AS number_of_accidents\n",
    "FROM local_time_dimension t, location_dimension l, facts_table ft\n",
    "WHERE t.local_time_key = ft.local_timekey AND l.location_key = ft.locationkey\n",
    "GROUP BY l.region, l.subregion, t.period_of_day\n",
    "ORDER BY l.region DESC\n",
    "\"\"\"\n",
    "\n",
    "df = getSQLfromQuery(SQL, ())"
   ]
  },
  {
   "cell_type": "code",
   "execution_count": 4,
   "metadata": {},
   "outputs": [
    {
     "data": {
      "text/html": [
       "<div>\n",
       "<style scoped>\n",
       "    .dataframe tbody tr th:only-of-type {\n",
       "        vertical-align: middle;\n",
       "    }\n",
       "\n",
       "    .dataframe tbody tr th {\n",
       "        vertical-align: top;\n",
       "    }\n",
       "\n",
       "    .dataframe thead th {\n",
       "        text-align: right;\n",
       "    }\n",
       "</style>\n",
       "<table border=\"1\" class=\"dataframe\">\n",
       "  <thead>\n",
       "    <tr style=\"text-align: right;\">\n",
       "      <th></th>\n",
       "      <th></th>\n",
       "      <th></th>\n",
       "      <th>number_of_accidents</th>\n",
       "    </tr>\n",
       "    <tr>\n",
       "      <th>region</th>\n",
       "      <th>subregion</th>\n",
       "      <th>period_of_day</th>\n",
       "      <th></th>\n",
       "    </tr>\n",
       "  </thead>\n",
       "  <tbody>\n",
       "    <tr>\n",
       "      <th rowspan=\"12\" valign=\"top\">Midwest</th>\n",
       "      <th rowspan=\"6\" valign=\"top\">East North Central</th>\n",
       "      <th>Day</th>\n",
       "      <td>1544</td>\n",
       "    </tr>\n",
       "    <tr>\n",
       "      <th>Dusk</th>\n",
       "      <td>413</td>\n",
       "    </tr>\n",
       "    <tr>\n",
       "      <th>Evening Rush Hour</th>\n",
       "      <td>604</td>\n",
       "    </tr>\n",
       "    <tr>\n",
       "      <th>Lunch Time</th>\n",
       "      <td>359</td>\n",
       "    </tr>\n",
       "    <tr>\n",
       "      <th>Morning Rush Hour</th>\n",
       "      <td>807</td>\n",
       "    </tr>\n",
       "    <tr>\n",
       "      <th>Night</th>\n",
       "      <td>734</td>\n",
       "    </tr>\n",
       "    <tr>\n",
       "      <th rowspan=\"6\" valign=\"top\">West North Central</th>\n",
       "      <th>Day</th>\n",
       "      <td>669</td>\n",
       "    </tr>\n",
       "    <tr>\n",
       "      <th>Dusk</th>\n",
       "      <td>225</td>\n",
       "    </tr>\n",
       "    <tr>\n",
       "      <th>Evening Rush Hour</th>\n",
       "      <td>295</td>\n",
       "    </tr>\n",
       "    <tr>\n",
       "      <th>Lunch Time</th>\n",
       "      <td>190</td>\n",
       "    </tr>\n",
       "    <tr>\n",
       "      <th>Morning Rush Hour</th>\n",
       "      <td>312</td>\n",
       "    </tr>\n",
       "    <tr>\n",
       "      <th>Night</th>\n",
       "      <td>311</td>\n",
       "    </tr>\n",
       "    <tr>\n",
       "      <th rowspan=\"12\" valign=\"top\">Northeast</th>\n",
       "      <th rowspan=\"6\" valign=\"top\">Mid Atlantic</th>\n",
       "      <th>Day</th>\n",
       "      <td>1732</td>\n",
       "    </tr>\n",
       "    <tr>\n",
       "      <th>Dusk</th>\n",
       "      <td>402</td>\n",
       "    </tr>\n",
       "    <tr>\n",
       "      <th>Evening Rush Hour</th>\n",
       "      <td>521</td>\n",
       "    </tr>\n",
       "    <tr>\n",
       "      <th>Lunch Time</th>\n",
       "      <td>373</td>\n",
       "    </tr>\n",
       "    <tr>\n",
       "      <th>Morning Rush Hour</th>\n",
       "      <td>865</td>\n",
       "    </tr>\n",
       "    <tr>\n",
       "      <th>Night</th>\n",
       "      <td>677</td>\n",
       "    </tr>\n",
       "    <tr>\n",
       "      <th rowspan=\"6\" valign=\"top\">New England</th>\n",
       "      <th>Day</th>\n",
       "      <td>521</td>\n",
       "    </tr>\n",
       "    <tr>\n",
       "      <th>Dusk</th>\n",
       "      <td>139</td>\n",
       "    </tr>\n",
       "    <tr>\n",
       "      <th>Evening Rush Hour</th>\n",
       "      <td>183</td>\n",
       "    </tr>\n",
       "    <tr>\n",
       "      <th>Lunch Time</th>\n",
       "      <td>98</td>\n",
       "    </tr>\n",
       "    <tr>\n",
       "      <th>Morning Rush Hour</th>\n",
       "      <td>201</td>\n",
       "    </tr>\n",
       "    <tr>\n",
       "      <th>Night</th>\n",
       "      <td>136</td>\n",
       "    </tr>\n",
       "    <tr>\n",
       "      <th rowspan=\"18\" valign=\"top\">South</th>\n",
       "      <th rowspan=\"6\" valign=\"top\">East South Central</th>\n",
       "      <th>Day</th>\n",
       "      <td>861</td>\n",
       "    </tr>\n",
       "    <tr>\n",
       "      <th>Dusk</th>\n",
       "      <td>163</td>\n",
       "    </tr>\n",
       "    <tr>\n",
       "      <th>Evening Rush Hour</th>\n",
       "      <td>285</td>\n",
       "    </tr>\n",
       "    <tr>\n",
       "      <th>Lunch Time</th>\n",
       "      <td>156</td>\n",
       "    </tr>\n",
       "    <tr>\n",
       "      <th>Morning Rush Hour</th>\n",
       "      <td>363</td>\n",
       "    </tr>\n",
       "    <tr>\n",
       "      <th>Night</th>\n",
       "      <td>264</td>\n",
       "    </tr>\n",
       "    <tr>\n",
       "      <th rowspan=\"6\" valign=\"top\">South Atlantic</th>\n",
       "      <th>Day</th>\n",
       "      <td>4129</td>\n",
       "    </tr>\n",
       "    <tr>\n",
       "      <th>Dusk</th>\n",
       "      <td>983</td>\n",
       "    </tr>\n",
       "    <tr>\n",
       "      <th>Evening Rush Hour</th>\n",
       "      <td>1619</td>\n",
       "    </tr>\n",
       "    <tr>\n",
       "      <th>Lunch Time</th>\n",
       "      <td>1227</td>\n",
       "    </tr>\n",
       "    <tr>\n",
       "      <th>Morning Rush Hour</th>\n",
       "      <td>1806</td>\n",
       "    </tr>\n",
       "    <tr>\n",
       "      <th>Night</th>\n",
       "      <td>1629</td>\n",
       "    </tr>\n",
       "    <tr>\n",
       "      <th rowspan=\"6\" valign=\"top\">West South Central</th>\n",
       "      <th>Day</th>\n",
       "      <td>2317</td>\n",
       "    </tr>\n",
       "    <tr>\n",
       "      <th>Dusk</th>\n",
       "      <td>517</td>\n",
       "    </tr>\n",
       "    <tr>\n",
       "      <th>Evening Rush Hour</th>\n",
       "      <td>855</td>\n",
       "    </tr>\n",
       "    <tr>\n",
       "      <th>Lunch Time</th>\n",
       "      <td>625</td>\n",
       "    </tr>\n",
       "    <tr>\n",
       "      <th>Morning Rush Hour</th>\n",
       "      <td>1012</td>\n",
       "    </tr>\n",
       "    <tr>\n",
       "      <th>Night</th>\n",
       "      <td>874</td>\n",
       "    </tr>\n",
       "    <tr>\n",
       "      <th rowspan=\"12\" valign=\"top\">West</th>\n",
       "      <th rowspan=\"6\" valign=\"top\">Mountain</th>\n",
       "      <th>Day</th>\n",
       "      <td>956</td>\n",
       "    </tr>\n",
       "    <tr>\n",
       "      <th>Dusk</th>\n",
       "      <td>250</td>\n",
       "    </tr>\n",
       "    <tr>\n",
       "      <th>Evening Rush Hour</th>\n",
       "      <td>369</td>\n",
       "    </tr>\n",
       "    <tr>\n",
       "      <th>Lunch Time</th>\n",
       "      <td>227</td>\n",
       "    </tr>\n",
       "    <tr>\n",
       "      <th>Morning Rush Hour</th>\n",
       "      <td>463</td>\n",
       "    </tr>\n",
       "    <tr>\n",
       "      <th>Night</th>\n",
       "      <td>402</td>\n",
       "    </tr>\n",
       "    <tr>\n",
       "      <th rowspan=\"6\" valign=\"top\">Pacific</th>\n",
       "      <th>Day</th>\n",
       "      <td>4671</td>\n",
       "    </tr>\n",
       "    <tr>\n",
       "      <th>Dusk</th>\n",
       "      <td>1294</td>\n",
       "    </tr>\n",
       "    <tr>\n",
       "      <th>Evening Rush Hour</th>\n",
       "      <td>1651</td>\n",
       "    </tr>\n",
       "    <tr>\n",
       "      <th>Lunch Time</th>\n",
       "      <td>1374</td>\n",
       "    </tr>\n",
       "    <tr>\n",
       "      <th>Morning Rush Hour</th>\n",
       "      <td>1601</td>\n",
       "    </tr>\n",
       "    <tr>\n",
       "      <th>Night</th>\n",
       "      <td>2922</td>\n",
       "    </tr>\n",
       "  </tbody>\n",
       "</table>\n",
       "</div>"
      ],
      "text/plain": [
       "                                                                                                    number_of_accidents\n",
       "region                           subregion                        period_of_day                                        \n",
       "Midwest                          East North Central               Day                                              1544\n",
       "                                                                  Dusk                                              413\n",
       "                                                                  Evening Rush Hour                                 604\n",
       "                                                                  Lunch Time                                        359\n",
       "                                                                  Morning Rush Hour                                 807\n",
       "                                                                  Night                                             734\n",
       "                                 West North Central               Day                                               669\n",
       "                                                                  Dusk                                              225\n",
       "                                                                  Evening Rush Hour                                 295\n",
       "                                                                  Lunch Time                                        190\n",
       "                                                                  Morning Rush Hour                                 312\n",
       "                                                                  Night                                             311\n",
       "Northeast                        Mid Atlantic                     Day                                              1732\n",
       "                                                                  Dusk                                              402\n",
       "                                                                  Evening Rush Hour                                 521\n",
       "                                                                  Lunch Time                                        373\n",
       "                                                                  Morning Rush Hour                                 865\n",
       "                                                                  Night                                             677\n",
       "                                 New England                      Day                                               521\n",
       "                                                                  Dusk                                              139\n",
       "                                                                  Evening Rush Hour                                 183\n",
       "                                                                  Lunch Time                                         98\n",
       "                                                                  Morning Rush Hour                                 201\n",
       "                                                                  Night                                             136\n",
       "South                            East South Central               Day                                               861\n",
       "                                                                  Dusk                                              163\n",
       "                                                                  Evening Rush Hour                                 285\n",
       "                                                                  Lunch Time                                        156\n",
       "                                                                  Morning Rush Hour                                 363\n",
       "                                                                  Night                                             264\n",
       "                                 South Atlantic                   Day                                              4129\n",
       "                                                                  Dusk                                              983\n",
       "                                                                  Evening Rush Hour                                1619\n",
       "                                                                  Lunch Time                                       1227\n",
       "                                                                  Morning Rush Hour                                1806\n",
       "                                                                  Night                                            1629\n",
       "                                 West South Central               Day                                              2317\n",
       "                                                                  Dusk                                              517\n",
       "                                                                  Evening Rush Hour                                 855\n",
       "                                                                  Lunch Time                                        625\n",
       "                                                                  Morning Rush Hour                                1012\n",
       "                                                                  Night                                             874\n",
       "West                             Mountain                         Day                                               956\n",
       "                                                                  Dusk                                              250\n",
       "                                                                  Evening Rush Hour                                 369\n",
       "                                                                  Lunch Time                                        227\n",
       "                                                                  Morning Rush Hour                                 463\n",
       "                                                                  Night                                             402\n",
       "                                 Pacific                          Day                                              4671\n",
       "                                                                  Dusk                                             1294\n",
       "                                                                  Evening Rush Hour                                1651\n",
       "                                                                  Lunch Time                                       1374\n",
       "                                                                  Morning Rush Hour                                1601\n",
       "                                                                  Night                                            2922"
      ]
     },
     "execution_count": 4,
     "metadata": {},
     "output_type": "execute_result"
    }
   ],
   "source": [
    "table = pd.pivot_table(df, \n",
    "                       values=['number_of_accidents'], \n",
    "                       index=['region', 'subregion', 'period_of_day'], \n",
    "                       aggfunc={'number_of_accidents': np.sum},)\n",
    "\n",
    "table"
   ]
  },
  {
   "cell_type": "markdown",
   "metadata": {},
   "source": [
    "--------------------------------------------\n",
    "\n",
    "2. **Assumindo que os diferentes níveis de urbanismo nos municípios afetam a quantidade de tráfego nos mesmos, esse aumento também vai ocorrer no número de acidentes e na severidade dos mesmos?** \n",
    "\n",
    "\n",
    "* **Objetivo da interrogação**: Análise e visualização, para cada nível de urbanismo, do número de acidentes, e da distribuição da severidade nos mesmos, de modo a entender padrões à medida que o urbanismo aumenta.\n",
    "* **Dimensões relevantes**: \n",
    "    * Facts Table: ligação à dimensão Location (atributo `LocationKey`)\n",
    "    * Location: para recolha dos diferentes níveis de urbanismo (atributo `UrbanRuralClassification`)\n",
    "    * Severity: para recolha das diferentes severidades dos acidentes (atributo-chave `SeverityKey`)\n",
    "* **Relevância para quais processos?**\n",
    "    * Seguradoras: adequação de valores através da prevalência de determinados acidentes em certas zonas\n",
    "    * Policiamento: dado o número de acidentes, adaptação de meios de vigiliância e cooperação\n",
    "    * Estruturas de controlo de tráfego: recolha de informação para identificação de zonas mais vulneráveis\n",
    "\n",
    "**Interrogação**:\n",
    "\n",
    "``\n",
    "SELECT ft.severitykey, l.urban_rural_classification, COUNT(*) AS number_of_accidents\n",
    "from facts_table ft, location_dimension l\n",
    "WHERE ft.locationkey = l.location_key\n",
    "GROUP BY l.urban_rural_classification, ft.severitykey\n",
    "ORDER BY l.urban_rural_classification, ft.severitykey\n",
    "``\n"
   ]
  },
  {
   "cell_type": "code",
   "execution_count": 5,
   "metadata": {},
   "outputs": [
    {
     "data": {
      "text/html": [
       "<div>\n",
       "<style scoped>\n",
       "    .dataframe tbody tr th:only-of-type {\n",
       "        vertical-align: middle;\n",
       "    }\n",
       "\n",
       "    .dataframe tbody tr th {\n",
       "        vertical-align: top;\n",
       "    }\n",
       "\n",
       "    .dataframe thead tr th {\n",
       "        text-align: left;\n",
       "    }\n",
       "\n",
       "    .dataframe thead tr:last-of-type th {\n",
       "        text-align: right;\n",
       "    }\n",
       "</style>\n",
       "<table border=\"1\" class=\"dataframe\">\n",
       "  <thead>\n",
       "    <tr>\n",
       "      <th></th>\n",
       "      <th colspan=\"7\" halign=\"left\">number_of_accidents</th>\n",
       "    </tr>\n",
       "    <tr>\n",
       "      <th>urban_rural_classification</th>\n",
       "      <th>Large Central Metro</th>\n",
       "      <th>Large Fringe Metro</th>\n",
       "      <th>Medium Metro</th>\n",
       "      <th>Micropolitan</th>\n",
       "      <th>Non-Core</th>\n",
       "      <th>Small Metro</th>\n",
       "      <th>All</th>\n",
       "    </tr>\n",
       "    <tr>\n",
       "      <th>severitykey</th>\n",
       "      <th></th>\n",
       "      <th></th>\n",
       "      <th></th>\n",
       "      <th></th>\n",
       "      <th></th>\n",
       "      <th></th>\n",
       "      <th></th>\n",
       "    </tr>\n",
       "  </thead>\n",
       "  <tbody>\n",
       "    <tr>\n",
       "      <th>1</th>\n",
       "      <td>5</td>\n",
       "      <td>4</td>\n",
       "      <td>4</td>\n",
       "      <td>0</td>\n",
       "      <td>3</td>\n",
       "      <td>2</td>\n",
       "      <td>3</td>\n",
       "    </tr>\n",
       "    <tr>\n",
       "      <th>2</th>\n",
       "      <td>12664</td>\n",
       "      <td>4504</td>\n",
       "      <td>5234</td>\n",
       "      <td>2080</td>\n",
       "      <td>6178</td>\n",
       "      <td>1796</td>\n",
       "      <td>5409</td>\n",
       "    </tr>\n",
       "    <tr>\n",
       "      <th>3</th>\n",
       "      <td>5840</td>\n",
       "      <td>2374</td>\n",
       "      <td>1954</td>\n",
       "      <td>899</td>\n",
       "      <td>2670</td>\n",
       "      <td>527</td>\n",
       "      <td>2377</td>\n",
       "    </tr>\n",
       "    <tr>\n",
       "      <th>4</th>\n",
       "      <td>233</td>\n",
       "      <td>297</td>\n",
       "      <td>260</td>\n",
       "      <td>173</td>\n",
       "      <td>337</td>\n",
       "      <td>138</td>\n",
       "      <td>239</td>\n",
       "    </tr>\n",
       "    <tr>\n",
       "      <th>All</th>\n",
       "      <td>4685</td>\n",
       "      <td>1794</td>\n",
       "      <td>1863</td>\n",
       "      <td>1050</td>\n",
       "      <td>2297</td>\n",
       "      <td>615</td>\n",
       "      <td>2094</td>\n",
       "    </tr>\n",
       "  </tbody>\n",
       "</table>\n",
       "</div>"
      ],
      "text/plain": [
       "                           number_of_accidents                     \\\n",
       "urban_rural_classification Large Central Metro Large Fringe Metro   \n",
       "severitykey                                                         \n",
       "1                                            5                  4   \n",
       "2                                        12664               4504   \n",
       "3                                         5840               2374   \n",
       "4                                          233                297   \n",
       "All                                       4685               1794   \n",
       "\n",
       "                                                                           \\\n",
       "urban_rural_classification Medium Metro Micropolitan Non-Core Small Metro   \n",
       "severitykey                                                                 \n",
       "1                                     4            0        3           2   \n",
       "2                                  5234         2080     6178        1796   \n",
       "3                                  1954          899     2670         527   \n",
       "4                                   260          173      337         138   \n",
       "All                                1863         1050     2297         615   \n",
       "\n",
       "                                  \n",
       "urban_rural_classification   All  \n",
       "severitykey                       \n",
       "1                              3  \n",
       "2                           5409  \n",
       "3                           2377  \n",
       "4                            239  \n",
       "All                         2094  "
      ]
     },
     "execution_count": 5,
     "metadata": {},
     "output_type": "execute_result"
    }
   ],
   "source": [
    "SQL=\"\"\"\n",
    "SELECT ft.severitykey, l.urban_rural_classification, COUNT(*) AS number_of_accidents\n",
    "from facts_table ft, location_dimension l\n",
    "WHERE ft.locationkey = l.location_key\n",
    "GROUP BY l.urban_rural_classification, ft.severitykey\n",
    "ORDER BY l.urban_rural_classification, ft.severitykey\n",
    "\"\"\"\n",
    "\n",
    "df = getSQLfromQuery(SQL, ())\n",
    "df['urban_rural_classification'] = df['urban_rural_classification'].apply(lambda x: x.rstrip())\n",
    "\n",
    "table = pd.pivot_table(df, index=['severitykey'],margins=True, columns=['urban_rural_classification'] ).fillna(0).astype(int)\n",
    "table"
   ]
  },
  {
   "cell_type": "markdown",
   "metadata": {},
   "source": [
    "##### Possível visualização dos dados:"
   ]
  },
  {
   "cell_type": "code",
   "execution_count": 6,
   "metadata": {},
   "outputs": [
    {
     "data": {
      "image/png": "[encoded data removed]",
      "text/plain": [
       "<Figure size 1152x792 with 6 Axes>"
      ]
     },
     "metadata": {
      "needs_background": "light"
     },
     "output_type": "display_data"
    }
   ],
   "source": [
    "classes = list(set(df['urban_rural_classification'].values))\n",
    "fig, axs = plt.subplots(2,3, figsize=(16,11))\n",
    "fig.suptitle('Comparing different levels of urbanism by severity and number of accidents.')\n",
    "\n",
    "for i, ax in enumerate(fig.axes):\n",
    "    test = df.loc[df['urban_rural_classification'] == classes[i]].drop(columns=['urban_rural_classification'])\n",
    "\n",
    "    ax.set_xticks(test['severitykey'].values)\n",
    "    ax.bar(test['severitykey'].values, test['number_of_accidents'].values)\n",
    "    ax.set_title(classes[i])\n",
    "    if i == 0: \n",
    "        ax.set_xlabel(\"Level of Severity\")\n",
    "        ax.set_ylabel(\"Number of Accidents\")\n",
    "plt.show()"
   ]
  },
  {
   "cell_type": "markdown",
   "metadata": {},
   "source": [
    "---------------------------------------------\n",
    "\n",
    "3. **Assumindo que a condição de 'piso escorregadio' influi negativamente nos acidentes, qual será o impacto de algumas condições metereológicas tipicamente associadas a esta condição na distância e duração média dos acidentes verificados?**\n",
    "\n",
    "\n",
    "* **Objetivo da interrogação**: Análise e visualização, para os atributos metereológicos selecionados, a duração média e a distância média dos acidentes, de modo a entender os padrões que mais contribuem para acidentes tipicamente associados a piso escorregadio.\n",
    "\n",
    "* **Dimensões relevantes**: \n",
    "    * Facts Table: ligação à dimensão Weather (atributo `weather_key`)\n",
    "    * Weather: para recolha dos diferentes atributos metereológicos (atributos `precipitation`,`weathercondition`,`humidity` )\n",
    "* **Relevância para quais processos?**\n",
    "    * Estruturas de controlo de tráfego: estudo das condições e emissão de alertas aos condutores.\n",
    "\n",
    "**Interrogação**:\n",
    "\n",
    "``\n",
    "Select weather_dimension.precipitation as precipitation, \n",
    "\t\tweather_dimension.weather_condition as weathercondition, \n",
    "\t\tweather_dimension.humidity as humidity, \n",
    "\t\tavg(facts_table.distance) as average_distance,\n",
    "\t\tavg(facts_table.duration) as average_duration,\n",
    "from facts_table, weather_dimension\n",
    "where facts_table.weatherkey = weather_dimension.weather_key \n",
    "       and weather_dimension.precipitation not like '%Unknown%'\n",
    "\t   and weather_dimension.weather_condition not like '%Unknown%'\n",
    "\t   and weather_dimension.humidity not like '%Unknown%'\n",
    "GROUP BY precipitation, weathercondition, humidity\n",
    "order by average_duration desc\n",
    "``\n"
   ]
  },
  {
   "cell_type": "code",
   "execution_count": 7,
   "metadata": {},
   "outputs": [],
   "source": [
    "SQL=\"\"\"\n",
    "select weather_dimension.precipitation as precipitation, \n",
    "        weather_dimension.weather_condition as weathercondition, \n",
    "        weather_dimension.humidity as humidity, \n",
    "        avg(facts_table.distance) as average_distance,\n",
    "        avg(facts_table.duration) as average_duration\n",
    "from facts_table, weather_dimension\n",
    "where facts_table.weatherkey = weather_dimension.weather_key \n",
    "       and weather_dimension.precipitation not like '%Unknown%'\n",
    "       and weather_dimension.weather_condition not like '%Unknown%'\n",
    "       and weather_dimension.humidity not like '%Unknown%'\n",
    "GROUP BY precipitation, weathercondition, humidity\n",
    "order by average_duration desc\n",
    "\"\"\"\n",
    "\n",
    "df = getSQLfromQuery(SQL, ())"
   ]
  },
  {
   "cell_type": "code",
   "execution_count": 8,
   "metadata": {},
   "outputs": [
    {
     "data": {
      "text/html": [
       "<div>\n",
       "<style scoped>\n",
       "    .dataframe tbody tr th:only-of-type {\n",
       "        vertical-align: middle;\n",
       "    }\n",
       "\n",
       "    .dataframe tbody tr th {\n",
       "        vertical-align: top;\n",
       "    }\n",
       "\n",
       "    .dataframe thead th {\n",
       "        text-align: right;\n",
       "    }\n",
       "</style>\n",
       "<table border=\"1\" class=\"dataframe\">\n",
       "  <thead>\n",
       "    <tr style=\"text-align: right;\">\n",
       "      <th></th>\n",
       "      <th></th>\n",
       "      <th></th>\n",
       "      <th>average_distance</th>\n",
       "      <th>average_duration</th>\n",
       "    </tr>\n",
       "    <tr>\n",
       "      <th>precipitation</th>\n",
       "      <th>weathercondition</th>\n",
       "      <th>humidity</th>\n",
       "      <th></th>\n",
       "      <th></th>\n",
       "    </tr>\n",
       "  </thead>\n",
       "  <tbody>\n",
       "    <tr>\n",
       "      <th rowspan=\"5\" valign=\"top\">(Heavy) 0.39 &lt; rate &lt;= 2.0</th>\n",
       "      <th rowspan=\"4\" valign=\"top\">Clear</th>\n",
       "      <th>(High) 50.0 &lt; rate &lt;= 75.0</th>\n",
       "      <td>0.188357</td>\n",
       "      <td>01:11:32.964286</td>\n",
       "    </tr>\n",
       "    <tr>\n",
       "      <th>(Low) rate &lt;= 25.0</th>\n",
       "      <td>0.006667</td>\n",
       "      <td>00:30:37.666667</td>\n",
       "    </tr>\n",
       "    <tr>\n",
       "      <th>(Medium) 25.0 &lt; rate &lt;= 50.0</th>\n",
       "      <td>0.049300</td>\n",
       "      <td>00:37:50.200000</td>\n",
       "    </tr>\n",
       "    <tr>\n",
       "      <th>(Very High) rate &gt; 75.0</th>\n",
       "      <td>1.558053</td>\n",
       "      <td>00:32:35.315789</td>\n",
       "    </tr>\n",
       "    <tr>\n",
       "      <th>Cloudy</th>\n",
       "      <th>(Very High) rate &gt; 75.0</th>\n",
       "      <td>1.695000</td>\n",
       "      <td>01:11:53.500000</td>\n",
       "    </tr>\n",
       "    <tr>\n",
       "      <th>...</th>\n",
       "      <th>...</th>\n",
       "      <th>...</th>\n",
       "      <td>...</td>\n",
       "      <td>...</td>\n",
       "    </tr>\n",
       "    <tr>\n",
       "      <th rowspan=\"4\" valign=\"top\">(Violent) rate &gt; 2.0</th>\n",
       "      <th rowspan=\"2\" valign=\"top\">Overcast</th>\n",
       "      <th>(Medium) 25.0 &lt; rate &lt;= 50.0</th>\n",
       "      <td>0.010000</td>\n",
       "      <td>00:44:30</td>\n",
       "    </tr>\n",
       "    <tr>\n",
       "      <th>(Very High) rate &gt; 75.0</th>\n",
       "      <td>0.191000</td>\n",
       "      <td>00:29:48</td>\n",
       "    </tr>\n",
       "    <tr>\n",
       "      <th rowspan=\"2\" valign=\"top\">Partly Cloudy</th>\n",
       "      <th>(High) 50.0 &lt; rate &lt;= 75.0</th>\n",
       "      <td>0.029333</td>\n",
       "      <td>02:24:48.666667</td>\n",
       "    </tr>\n",
       "    <tr>\n",
       "      <th>(Very High) rate &gt; 75.0</th>\n",
       "      <td>0.088000</td>\n",
       "      <td>03:14:47.500000</td>\n",
       "    </tr>\n",
       "    <tr>\n",
       "      <th>All</th>\n",
       "      <th></th>\n",
       "      <th></th>\n",
       "      <td>0.606243</td>\n",
       "      <td>01:31:26.931142</td>\n",
       "    </tr>\n",
       "  </tbody>\n",
       "</table>\n",
       "<p>239 rows × 2 columns</p>\n",
       "</div>"
      ],
      "text/plain": [
       "                                                                          average_distance  \\\n",
       "precipitation              weathercondition humidity                                         \n",
       "(Heavy) 0.39 < rate <= 2.0 Clear            (High) 50.0 < rate <= 75.0            0.188357   \n",
       "                                            (Low) rate <= 25.0                    0.006667   \n",
       "                                            (Medium) 25.0 < rate <= 50.0          0.049300   \n",
       "                                            (Very High) rate > 75.0               1.558053   \n",
       "                           Cloudy           (Very High) rate > 75.0               1.695000   \n",
       "...                                                                                    ...   \n",
       "(Violent) rate > 2.0       Overcast         (Medium) 25.0 < rate <= 50.0          0.010000   \n",
       "                                            (Very High) rate > 75.0               0.191000   \n",
       "                           Partly Cloudy    (High) 50.0 < rate <= 75.0            0.029333   \n",
       "                                            (Very High) rate > 75.0               0.088000   \n",
       "All                                                                               0.606243   \n",
       "\n",
       "                                                                         average_duration  \n",
       "precipitation              weathercondition humidity                                       \n",
       "(Heavy) 0.39 < rate <= 2.0 Clear            (High) 50.0 < rate <= 75.0    01:11:32.964286  \n",
       "                                            (Low) rate <= 25.0            00:30:37.666667  \n",
       "                                            (Medium) 25.0 < rate <= 50.0  00:37:50.200000  \n",
       "                                            (Very High) rate > 75.0       00:32:35.315789  \n",
       "                           Cloudy           (Very High) rate > 75.0       01:11:53.500000  \n",
       "...                                                                                   ...  \n",
       "(Violent) rate > 2.0       Overcast         (Medium) 25.0 < rate <= 50.0         00:44:30  \n",
       "                                            (Very High) rate > 75.0              00:29:48  \n",
       "                           Partly Cloudy    (High) 50.0 < rate <= 75.0    02:24:48.666667  \n",
       "                                            (Very High) rate > 75.0       03:14:47.500000  \n",
       "All                                                                       01:31:26.931142  \n",
       "\n",
       "[239 rows x 2 columns]"
      ]
     },
     "execution_count": 8,
     "metadata": {},
     "output_type": "execute_result"
    }
   ],
   "source": [
    "df['precipitation'] = df['precipitation'].apply(lambda x: x.rstrip())\n",
    "df['weathercondition'] = df['weathercondition'].apply(lambda x: x.rstrip())\n",
    "df['humidity'] = df['humidity'].apply(lambda x: x.rstrip())\n",
    "\n",
    "df['average_duration'] = df['average_duration'].astype(np.int64)\n",
    "table = pd.pivot_table(df, values=['average_distance','average_duration'],margins=True, index=['precipitation', 'weathercondition', 'humidity'], aggfunc={'average_distance':np.mean, 'average_duration': np.mean})\n",
    "table['average_duration'] = pd.to_timedelta(table['average_duration'])\n",
    "table"
   ]
  },
  {
   "cell_type": "markdown",
   "metadata": {},
   "source": [
    "-------------------------------\n",
    "\n",
    "4. **Tendo em conta a média de acidentes por estado ao longo de 2019, quais os estados com número de registos superiores a essa média? E qual a evolução de acidentes ao longo dos anos para esses estados?**\n",
    "\n",
    "\n",
    "* **Objetivo da interrogação**: Comparação do número de registos de acidentes nos ultimos anos, nos estados que mostram ter o maior número de acidentes;\n",
    "\n",
    "* **Dimensões relevantes**: \n",
    "    * Facts Table: ligação à dimensão Date (atributo `date_key`) e ligação à dimensão Location (atributo `location_key`) \n",
    "    * Date: para recolha dos anos registados nos vários acidentes (atributo `start_year`)\n",
    "    * Location: para recolha dos estados nos quais foram registados acidentes (atributo `state`)\n",
    "* **Relevância para quais processos?**\n",
    "    * Seguradoras: adequação de valores relativamente ao estado em que o veiculo está registado.\n",
    "    \n",
    "**Interrogação (e sub-interrogações para obter valores)**:\n",
    "\n",
    "* Obtenção do número total de acidentes em 2019:\n",
    "\n",
    "``\n",
    "SELECT COUNT(*) AS number_of_accidents\n",
    "FROM location_dimension , date_dimension , facts_table \n",
    "WHERE  facts_table.locationkey = location_dimension.location_key\n",
    "    AND facts_table.datekey = date_dimension.date_key \n",
    "    AND date_dimension.start_year = 2019\n",
    "``\n",
    "\n",
    "\n",
    "* Obtenção do número de estados presentes no conjunto de dados:\n",
    "\n",
    "``\n",
    "SELECT COUNT (DISTINCT location_dimension.state)\n",
    "FROM location_dimension\n",
    "``\n",
    "\n",
    "\n",
    "* *\\[Main query\\]* Definição da evolução anual de acidentes para os estados cujo número de acidentes foi acima da média em 2019:\n",
    "\n",
    "``\n",
    "SELECT location_dimension.state, date_dimension.start_year, COUNT(*) AS number_of_accidents\n",
    "FROM location_dimension , date_dimension , facts_table \n",
    "WHERE facts_table.locationkey = location_dimension.location_key\n",
    "    AND facts_table.datekey = date_dimension.date_key \n",
    "    AND location_dimension.state IN \n",
    "                 (SELECT location_dimension.state\n",
    "                FROM location_dimension , date_dimension , facts_table \n",
    "                WHERE  facts_table.locationkey = location_dimension.location_key\n",
    "                    AND facts_table.datekey = date_dimension.date_key \n",
    "                    AND date_dimension.start_year = 2019\n",
    "                GROUP BY location_dimension.state \n",
    "                HAVING COUNT(*) > media \n",
    "                )\n",
    "    GROUP BY date_dimension.start_year,location_dimension.state\n",
    "    ORDER BY location_dimension.state\n",
    "``\n",
    "\n"
   ]
  },
  {
   "cell_type": "code",
   "execution_count": 9,
   "metadata": {},
   "outputs": [
    {
     "name": "stdout",
     "output_type": "stream",
     "text": [
      "   number_of_accidents\n",
      "0                15546\n",
      "   count\n",
      "0     46\n",
      "\n",
      "Average: 337.95652173913044\n"
     ]
    }
   ],
   "source": [
    "SQL=\"\"\"\n",
    "SELECT COUNT(*) AS number_of_accidents\n",
    "FROM location_dimension , date_dimension , facts_table \n",
    "WHERE  facts_table.locationkey = location_dimension.location_key\n",
    "    AND facts_table.datekey = date_dimension.date_key \n",
    "    AND date_dimension.start_year = 2019\n",
    "\"\"\"\n",
    "df = getSQLfromQuery(SQL, ())\n",
    "print(df)\n",
    "numero = df.values\n",
    "\n",
    "SQL=\"\"\"\n",
    "SELECT COUNT (DISTINCT location_dimension.state)\n",
    "FROM location_dimension \n",
    "\n",
    "\"\"\"\n",
    "\n",
    "df = getSQLfromQuery(SQL, ())\n",
    "print(df)\n",
    "media = (numero [0] /df.values[0])[0]\n",
    "print(\"\\nAverage:\", media)"
   ]
  },
  {
   "cell_type": "code",
   "execution_count": 10,
   "metadata": {},
   "outputs": [
    {
     "data": {
      "text/html": [
       "<div>\n",
       "<style scoped>\n",
       "    .dataframe tbody tr th:only-of-type {\n",
       "        vertical-align: middle;\n",
       "    }\n",
       "\n",
       "    .dataframe tbody tr th {\n",
       "        vertical-align: top;\n",
       "    }\n",
       "\n",
       "    .dataframe thead tr th {\n",
       "        text-align: left;\n",
       "    }\n",
       "\n",
       "    .dataframe thead tr:last-of-type th {\n",
       "        text-align: right;\n",
       "    }\n",
       "</style>\n",
       "<table border=\"1\" class=\"dataframe\">\n",
       "  <thead>\n",
       "    <tr>\n",
       "      <th></th>\n",
       "      <th colspan=\"5\" halign=\"left\">number_of_accidents</th>\n",
       "    </tr>\n",
       "    <tr>\n",
       "      <th>start_year</th>\n",
       "      <th>2016</th>\n",
       "      <th>2017</th>\n",
       "      <th>2018</th>\n",
       "      <th>2019</th>\n",
       "      <th>All</th>\n",
       "    </tr>\n",
       "    <tr>\n",
       "      <th>state</th>\n",
       "      <th></th>\n",
       "      <th></th>\n",
       "      <th></th>\n",
       "      <th></th>\n",
       "      <th></th>\n",
       "    </tr>\n",
       "  </thead>\n",
       "  <tbody>\n",
       "    <tr>\n",
       "      <th>Arizona</th>\n",
       "      <td>48</td>\n",
       "      <td>211</td>\n",
       "      <td>382</td>\n",
       "      <td>411</td>\n",
       "      <td>263</td>\n",
       "    </tr>\n",
       "    <tr>\n",
       "      <th>California</th>\n",
       "      <td>2380</td>\n",
       "      <td>2637</td>\n",
       "      <td>2575</td>\n",
       "      <td>3674</td>\n",
       "      <td>2816</td>\n",
       "    </tr>\n",
       "    <tr>\n",
       "      <th>Florida</th>\n",
       "      <td>605</td>\n",
       "      <td>1036</td>\n",
       "      <td>1039</td>\n",
       "      <td>979</td>\n",
       "      <td>914</td>\n",
       "    </tr>\n",
       "    <tr>\n",
       "      <th>Georgia</th>\n",
       "      <td>182</td>\n",
       "      <td>353</td>\n",
       "      <td>412</td>\n",
       "      <td>371</td>\n",
       "      <td>329</td>\n",
       "    </tr>\n",
       "    <tr>\n",
       "      <th>Minnesota</th>\n",
       "      <td>45</td>\n",
       "      <td>182</td>\n",
       "      <td>310</td>\n",
       "      <td>534</td>\n",
       "      <td>267</td>\n",
       "    </tr>\n",
       "    <tr>\n",
       "      <th>New York</th>\n",
       "      <td>299</td>\n",
       "      <td>632</td>\n",
       "      <td>634</td>\n",
       "      <td>701</td>\n",
       "      <td>566</td>\n",
       "    </tr>\n",
       "    <tr>\n",
       "      <th>North Carolina</th>\n",
       "      <td>97</td>\n",
       "      <td>590</td>\n",
       "      <td>967</td>\n",
       "      <td>842</td>\n",
       "      <td>624</td>\n",
       "    </tr>\n",
       "    <tr>\n",
       "      <th>Oregon</th>\n",
       "      <td>15</td>\n",
       "      <td>109</td>\n",
       "      <td>373</td>\n",
       "      <td>698</td>\n",
       "      <td>298</td>\n",
       "    </tr>\n",
       "    <tr>\n",
       "      <th>South Carolina</th>\n",
       "      <td>50</td>\n",
       "      <td>442</td>\n",
       "      <td>1001</td>\n",
       "      <td>1020</td>\n",
       "      <td>628</td>\n",
       "    </tr>\n",
       "    <tr>\n",
       "      <th>Tennessee</th>\n",
       "      <td>23</td>\n",
       "      <td>196</td>\n",
       "      <td>450</td>\n",
       "      <td>396</td>\n",
       "      <td>266</td>\n",
       "    </tr>\n",
       "    <tr>\n",
       "      <th>Texas</th>\n",
       "      <td>843</td>\n",
       "      <td>1471</td>\n",
       "      <td>1429</td>\n",
       "      <td>1338</td>\n",
       "      <td>1270</td>\n",
       "    </tr>\n",
       "    <tr>\n",
       "      <th>Utah</th>\n",
       "      <td>11</td>\n",
       "      <td>61</td>\n",
       "      <td>181</td>\n",
       "      <td>414</td>\n",
       "      <td>166</td>\n",
       "    </tr>\n",
       "    <tr>\n",
       "      <th>All</th>\n",
       "      <td>383</td>\n",
       "      <td>660</td>\n",
       "      <td>812</td>\n",
       "      <td>948</td>\n",
       "      <td>701</td>\n",
       "    </tr>\n",
       "  </tbody>\n",
       "</table>\n",
       "</div>"
      ],
      "text/plain": [
       "               number_of_accidents                        \n",
       "start_year                    2016  2017  2018  2019   All\n",
       "state                                                     \n",
       "Arizona                         48   211   382   411   263\n",
       "California                    2380  2637  2575  3674  2816\n",
       "Florida                        605  1036  1039   979   914\n",
       "Georgia                        182   353   412   371   329\n",
       "Minnesota                       45   182   310   534   267\n",
       "New York                       299   632   634   701   566\n",
       "North Carolina                  97   590   967   842   624\n",
       "Oregon                          15   109   373   698   298\n",
       "South Carolina                  50   442  1001  1020   628\n",
       "Tennessee                       23   196   450   396   266\n",
       "Texas                          843  1471  1429  1338  1270\n",
       "Utah                            11    61   181   414   166\n",
       "All                            383   660   812   948   701"
      ]
     },
     "execution_count": 10,
     "metadata": {},
     "output_type": "execute_result"
    }
   ],
   "source": [
    "SQL=\"\"\"\n",
    "SELECT location_dimension.state, date_dimension.start_year, COUNT(*) AS number_of_accidents\n",
    "FROM location_dimension , date_dimension , facts_table \n",
    "WHERE facts_table.locationkey = location_dimension.location_key\n",
    "    AND facts_table.datekey = date_dimension.date_key \n",
    "    AND location_dimension.state IN \n",
    "                 (SELECT location_dimension.state\n",
    "                FROM location_dimension , date_dimension , facts_table \n",
    "                WHERE  facts_table.locationkey = location_dimension.location_key\n",
    "                    AND facts_table.datekey = date_dimension.date_key \n",
    "                    AND date_dimension.start_year = 2019\n",
    "                GROUP BY location_dimension.state \n",
    "                HAVING COUNT(*) >  \"\"\"+ str(media)+\"\"\" \n",
    "                )\n",
    "    GROUP BY date_dimension.start_year,location_dimension.state\n",
    "    ORDER BY location_dimension.state\n",
    "\"\"\"\n",
    "\n",
    "\n",
    "df =  getSQLfromQuery(SQL, ())\n",
    "df['state'] = df['state'].apply(lambda x: x.rstrip())\n",
    "table = pd.pivot_table(df, index= ['state'],margins=True, columns=['start_year'] )\n",
    "table = table.astype(int)\n",
    "table"
   ]
  },
  {
   "cell_type": "markdown",
   "metadata": {},
   "source": [
    "##### Possível visualização dos dados:"
   ]
  },
  {
   "cell_type": "code",
   "execution_count": 11,
   "metadata": {},
   "outputs": [
    {
     "data": {
      "image/png": "[encoded data removed]",
      "text/plain": [
       "<Figure size 1224x1584 with 12 Axes>"
      ]
     },
     "metadata": {
      "needs_background": "light"
     },
     "output_type": "display_data"
    }
   ],
   "source": [
    "states = table.index.values.tolist()\n",
    "\n",
    "fig, axs = plt.subplots(4,3, figsize=(17,22))\n",
    "fig.suptitle('Evolution of accidents in states with number of accidents above average in 2019.')\n",
    "\n",
    "for i, ax in enumerate(fig.axes):\n",
    "    testdf = pd.DataFrame(table.loc[states[i]]).T\n",
    "\n",
    "    years = []\n",
    "    for elem in testdf.columns :\n",
    "        years.append(elem[1])\n",
    "    \n",
    "    ax.set_xticks(years[:-1])\n",
    "    ax.bar(years[:-1], testdf.values[0][:-1])\n",
    "    ax.set_title(states[i])\n",
    "    ax.axhline(y=media, color='r', linestyle='--', label='Avg. 2019') \n",
    "    if i == 0: \n",
    "        ax.set_xlabel(\"Number of Accidents\")\n",
    "        ax.set_ylabel(\"Year\")\n",
    "        ax.legend()\n",
    "plt.show()"
   ]
  },
  {
   "cell_type": "markdown",
   "metadata": {},
   "source": [
    "## 2. Identificação de bottlenecks e otimização das queries"
   ]
  },
  {
   "cell_type": "markdown",
   "metadata": {},
   "source": [
    "Para cada uma das interrogações previstas anteriormente apresenta-se o plano gráfico e plano descritivo de execução das queries, para identificação de bottlenecks e possíveis melhorias. Apresenta-se ainda a informação relativa aos planos de execução após a realização das alterações de melhoria tidas por convenientes.\n",
    "\n",
    "De referir que o custo associado para estas operações está definido para a *sample* de ~50000 registos que temos presente na base de dados, sendo que para uma ordem de grandeza dos milhões de registos o seu impacto seria muito mais significativo."
   ]
  },
  {
   "cell_type": "markdown",
   "metadata": {},
   "source": [
    "### 2.1 Primeira Interrogação\n",
    "\n",
    "\n",
    "``\n",
    "SELECT l.region, l.subregion, t.period_of_day, COUNT(*) AS number_of_accidents\n",
    "FROM local_time_dimension t, location_dimension l, facts_table ft\n",
    "WHERE t.local_time_key = ft.local_timekey AND l.location_key = ft.locationkey\n",
    "GROUP BY l.region, l.subregion, t.period_of_day\n",
    "ORDER BY l.region DESC\n",
    "``"
   ]
  },
  {
   "cell_type": "markdown",
   "metadata": {},
   "source": [
    "**Plano gráfico de execução sem otimização**"
   ]
  },
  {
   "cell_type": "code",
   "execution_count": 12,
   "metadata": {},
   "outputs": [
    {
     "data": {
      "text/html": [
       "<img src=\"https://docs.google.com/uc?export=download&id=1b1E3KBf6nBUMohDpn0IG0tvDqM3jg-xU\"/>"
      ],
      "text/plain": [
       "<IPython.core.display.Image object>"
      ]
     },
     "execution_count": 12,
     "metadata": {},
     "output_type": "execute_result"
    }
   ],
   "source": [
    "Image(url= \"https://docs.google.com/uc?export=download&id=1b1E3KBf6nBUMohDpn0IG0tvDqM3jg-xU\")"
   ]
  },
  {
   "cell_type": "markdown",
   "metadata": {},
   "source": [
    "**Plano descritivo de execução sem otimização**"
   ]
  },
  {
   "cell_type": "code",
   "execution_count": 13,
   "metadata": {},
   "outputs": [
    {
     "data": {
      "text/html": [
       "<img src=\"https://docs.google.com/uc?export=download&id=1YOVah4mn24lE56xpumfivnki-Xe_cVqV\"/>"
      ],
      "text/plain": [
       "<IPython.core.display.Image object>"
      ]
     },
     "execution_count": 13,
     "metadata": {},
     "output_type": "execute_result"
    }
   ],
   "source": [
    "Image(url= \"https://docs.google.com/uc?export=download&id=1YOVah4mn24lE56xpumfivnki-Xe_cVqV\")"
   ]
  },
  {
   "cell_type": "markdown",
   "metadata": {},
   "source": [
    "**Ações de melhoria**\n",
    "\n",
    "* Como é possível ver pelas query plans, os maiores custos associados a esta query derivam dos dois joins efetuados pelas igualdades definidas na mesma: `t.local_time_key = ft.local_timekey` e `l.location_key = ft.locationkey`, sendo a última a que representa mais custo dado que a dimensão Location tem maior volume que a dimensão LocalTime.\n",
    "* Sendo assim, decide-se colocar um **B+ Tree Index** na chave secundária `locationkey` da tabela de factos. Esse index permite que, em vez de se recorrer a um *sequential scan* sobre a tabela de factos, passe a ser feito um *index scan*, sendo esses resultados posteriormente aproveitados para a igualdade seguinte.\n",
    "\n",
    "**`CREATE INDEX location_idx ON facts_table (locationkey)`**"
   ]
  },
  {
   "cell_type": "markdown",
   "metadata": {},
   "source": [
    "**Plano gráfico de execução otimizado**"
   ]
  },
  {
   "cell_type": "code",
   "execution_count": 14,
   "metadata": {},
   "outputs": [
    {
     "data": {
      "text/html": [
       "<img src=\"https://docs.google.com/uc?export=download&id=100tCgwBM56Zp9qWObxQCbcec2Fg-5Tyu\"/>"
      ],
      "text/plain": [
       "<IPython.core.display.Image object>"
      ]
     },
     "execution_count": 14,
     "metadata": {},
     "output_type": "execute_result"
    }
   ],
   "source": [
    "Image(url= \"https://docs.google.com/uc?export=download&id=100tCgwBM56Zp9qWObxQCbcec2Fg-5Tyu\")"
   ]
  },
  {
   "cell_type": "markdown",
   "metadata": {},
   "source": [
    "**Plano descritivo de execução otimizado**"
   ]
  },
  {
   "cell_type": "code",
   "execution_count": 15,
   "metadata": {},
   "outputs": [
    {
     "data": {
      "text/html": [
       "<img src=\"https://docs.google.com/uc?export=download&id=1eu3Ax0GCIUfeIlfSotoEzoZNZSBCdDoj\"/>"
      ],
      "text/plain": [
       "<IPython.core.display.Image object>"
      ]
     },
     "execution_count": 15,
     "metadata": {},
     "output_type": "execute_result"
    }
   ],
   "source": [
    "Image(url= \"https://docs.google.com/uc?export=download&id=1eu3Ax0GCIUfeIlfSotoEzoZNZSBCdDoj\")"
   ]
  },
  {
   "cell_type": "markdown",
   "metadata": {},
   "source": [
    "### 2.2 Segunda Interrogação\n",
    "\n",
    "\n",
    "``\n",
    "SELECT ft.severitykey, l.urban_rural_classification, COUNT(*) AS number_of_accidents\n",
    "from facts_table ft, location_dimension l\n",
    "WHERE ft.locationkey = l.location_key\n",
    "GROUP BY l.urban_rural_classification, ft.severitykey\n",
    "ORDER BY l.urban_rural_classification, ft.severitykey\n",
    "``"
   ]
  },
  {
   "cell_type": "markdown",
   "metadata": {},
   "source": [
    "**Plano gráfico de execução sem otimização**"
   ]
  },
  {
   "cell_type": "code",
   "execution_count": 16,
   "metadata": {},
   "outputs": [
    {
     "data": {
      "text/html": [
       "<img src=\"https://docs.google.com/uc?export=download&id=1hq5i-5sLbzNHy1VahfVafZcuMHn5Ye8V\"/>"
      ],
      "text/plain": [
       "<IPython.core.display.Image object>"
      ]
     },
     "execution_count": 16,
     "metadata": {},
     "output_type": "execute_result"
    }
   ],
   "source": [
    "Image(url= \"https://docs.google.com/uc?export=download&id=1hq5i-5sLbzNHy1VahfVafZcuMHn5Ye8V\")"
   ]
  },
  {
   "cell_type": "markdown",
   "metadata": {},
   "source": [
    "**Plano descritivo de execução sem otimização**"
   ]
  },
  {
   "cell_type": "code",
   "execution_count": 17,
   "metadata": {},
   "outputs": [
    {
     "data": {
      "text/html": [
       "<img src=\"https://docs.google.com/uc?export=download&id=1qlmJRyB2MI16I3CsIJCRJ7a4wo5TvPuA\"/>"
      ],
      "text/plain": [
       "<IPython.core.display.Image object>"
      ]
     },
     "execution_count": 17,
     "metadata": {},
     "output_type": "execute_result"
    }
   ],
   "source": [
    "Image(url= \"https://docs.google.com/uc?export=download&id=1qlmJRyB2MI16I3CsIJCRJ7a4wo5TvPuA\")"
   ]
  },
  {
   "cell_type": "markdown",
   "metadata": {},
   "source": [
    "**Ações de melhoria**\n",
    "\n",
    "* Como é possível ver pelas query plans desta query, a operação com maior custo, por larga margem, é a que envolve a ligação entre a chave secundária `locationkey` (da tabela de factos) e a chave primária `location_key` (da dimensão Location). \n",
    "* Visto que as chaves primárias das dimensões já têm indexes associados, uma possível otimização será a colocação de um index sobre a `location_key`, da tabela de factos (*index* esse também já usado anteriormente) de modo a definir melhorias sobre o *scan* efetuado na dimensão Location."
   ]
  },
  {
   "cell_type": "markdown",
   "metadata": {},
   "source": [
    "**Plano gráfico de execução otimizado**"
   ]
  },
  {
   "cell_type": "code",
   "execution_count": 18,
   "metadata": {},
   "outputs": [
    {
     "data": {
      "text/html": [
       "<img src=\"https://docs.google.com/uc?export=download&id=1m-sF611zxWPf0ugm_So8nttu-YUUvWou\"/>"
      ],
      "text/plain": [
       "<IPython.core.display.Image object>"
      ]
     },
     "execution_count": 18,
     "metadata": {},
     "output_type": "execute_result"
    }
   ],
   "source": [
    "Image(url= \"https://docs.google.com/uc?export=download&id=1m-sF611zxWPf0ugm_So8nttu-YUUvWou\")"
   ]
  },
  {
   "cell_type": "markdown",
   "metadata": {},
   "source": [
    "**Plano descritivo de execução otimizado**"
   ]
  },
  {
   "cell_type": "code",
   "execution_count": 19,
   "metadata": {},
   "outputs": [
    {
     "data": {
      "text/html": [
       "<img src=\"https://docs.google.com/uc?export=download&id=13DAK8STGt5KguFfbe4qUnJ-wjkWza8H1\"/>"
      ],
      "text/plain": [
       "<IPython.core.display.Image object>"
      ]
     },
     "execution_count": 19,
     "metadata": {},
     "output_type": "execute_result"
    }
   ],
   "source": [
    "Image(url= \"https://docs.google.com/uc?export=download&id=13DAK8STGt5KguFfbe4qUnJ-wjkWza8H1\")"
   ]
  },
  {
   "cell_type": "markdown",
   "metadata": {},
   "source": [
    "* Através da introdução do *index* referido, passa agora a ocorrer um *merge inner join* com dois *index scan* associados em vez do sequential scan sobre a tabela de factos, o que leva à redução do custo destas operações."
   ]
  },
  {
   "cell_type": "markdown",
   "metadata": {},
   "source": [
    "### 2.3 Terceira Interrogação\n",
    "\n",
    "\n",
    "``\n",
    "Select weather_dimension.precipitation as precipitation, \n",
    "\t\tweather_dimension.weather_condition as weathercondition, \n",
    "\t\tweather_dimension.humidity as humidity, \n",
    "\t\tavg(facts_table.distance) as average_distance,\n",
    "\t\tavg(facts_table.duration) as average_duration,\n",
    "from facts_table, weather_dimension\n",
    "where facts_table.weatherkey = weather_dimension.weather_key \n",
    "       and weather_dimension.precipitation not like '%Unknown%'\n",
    "\t   and weather_dimension.weather_condition not like '%Unknown%'\n",
    "\t   and weather_dimension.humidity not like '%Unknown%'\n",
    "GROUP BY precipitation, weathercondition, humidity\n",
    "order by average_duration desc\n",
    "``"
   ]
  },
  {
   "cell_type": "markdown",
   "metadata": {},
   "source": [
    "**Plano gráfico de execução sem otimização**"
   ]
  },
  {
   "cell_type": "code",
   "execution_count": 20,
   "metadata": {},
   "outputs": [
    {
     "data": {
      "text/html": [
       "<img src=\"https://docs.google.com/uc?export=download&id=1bpxSj_U7AedOPTlQJkkXUkd_8cLUC0pB\"/>"
      ],
      "text/plain": [
       "<IPython.core.display.Image object>"
      ]
     },
     "execution_count": 20,
     "metadata": {},
     "output_type": "execute_result"
    }
   ],
   "source": [
    "Image(url= \"https://docs.google.com/uc?export=download&id=1bpxSj_U7AedOPTlQJkkXUkd_8cLUC0pB\")"
   ]
  },
  {
   "cell_type": "markdown",
   "metadata": {},
   "source": [
    "**Plano descritivo de execução sem otimização**"
   ]
  },
  {
   "cell_type": "code",
   "execution_count": 21,
   "metadata": {},
   "outputs": [
    {
     "data": {
      "text/html": [
       "<img src=\"https://docs.google.com/uc?export=download&id=15rfhJXuiXueoyAiFRDrVDxFEIXWIH0jk\"/>"
      ],
      "text/plain": [
       "<IPython.core.display.Image object>"
      ]
     },
     "execution_count": 21,
     "metadata": {},
     "output_type": "execute_result"
    }
   ],
   "source": [
    "Image(url= \"https://docs.google.com/uc?export=download&id=15rfhJXuiXueoyAiFRDrVDxFEIXWIH0jk\")"
   ]
  },
  {
   "cell_type": "markdown",
   "metadata": {},
   "source": [
    "**Ações de melhoria**\n",
    "\n",
    "* De acordo com o query planner a tarefa de maior custo está associada à interseção das tabelas de factos e de `weather_dimension` através da igualdade `weather_dimension.weatherkey = facts_table.weather_key`.\n",
    "* Uma das soluções de otimização encontrada foi a criação de uma **B+ Tree Index** na tabela de factos tendo como referência a chave secundária `weatherkey`. Esta solução irá em termos teóricos conduzir o query planner a priorizar a leitura do indíce criado que é menos custosa quando comparada com a leitura sequêncial da tabela de factos.\n",
    "\n",
    "**`CREATE INDEX weather_idx ON facts_table (weatherkey)`**"
   ]
  },
  {
   "cell_type": "markdown",
   "metadata": {},
   "source": [
    "**Plano gráfico de execução otimizado**"
   ]
  },
  {
   "cell_type": "code",
   "execution_count": 22,
   "metadata": {},
   "outputs": [
    {
     "data": {
      "text/html": [
       "<img src=\"https://docs.google.com/uc?export=download&id=1uLKmPE11J-Tma_-LvFkqrtJAa3ZSdY90\"/>"
      ],
      "text/plain": [
       "<IPython.core.display.Image object>"
      ]
     },
     "execution_count": 22,
     "metadata": {},
     "output_type": "execute_result"
    }
   ],
   "source": [
    "Image(url= \"https://docs.google.com/uc?export=download&id=1uLKmPE11J-Tma_-LvFkqrtJAa3ZSdY90\")"
   ]
  },
  {
   "cell_type": "markdown",
   "metadata": {},
   "source": [
    "**Plano descritivo de execução otimizado**"
   ]
  },
  {
   "cell_type": "code",
   "execution_count": 23,
   "metadata": {
    "scrolled": true
   },
   "outputs": [
    {
     "data": {
      "text/html": [
       "<img src=\"https://docs.google.com/uc?export=download&id=1V1CMheIVvN0jenZpCu_DqAlJFo6HRr8u\"/>"
      ],
      "text/plain": [
       "<IPython.core.display.Image object>"
      ]
     },
     "execution_count": 23,
     "metadata": {},
     "output_type": "execute_result"
    }
   ],
   "source": [
    "Image(url= \"https://docs.google.com/uc?export=download&id=1V1CMheIVvN0jenZpCu_DqAlJFo6HRr8u\")"
   ]
  },
  {
   "cell_type": "markdown",
   "metadata": {},
   "source": [
    "* A criação do índice teve o efeito pretendido de redução do custo da interrogação e da substituição da leitura sequencial da tabela pela consulta do índice criado."
   ]
  },
  {
   "cell_type": "markdown",
   "metadata": {},
   "source": [
    "### 2.4 Quarta Interrogação\n",
    "\n",
    "\n",
    "\n",
    "``\n",
    "SELECT location_dimension.state, date_dimension.start_year, COUNT(*) AS number_of_accidents\n",
    "FROM location_dimension , date_dimension , facts_table \n",
    "WHERE facts_table.locationkey = location_dimension.location_key\n",
    "    AND facts_table.datekey = date_dimension.date_key \n",
    "    AND location_dimension.state IN \n",
    "                 (SELECT location_dimension.state\n",
    "                FROM location_dimension , date_dimension , facts_table \n",
    "                WHERE  facts_table.locationkey = location_dimension.location_key\n",
    "                    AND facts_table.datekey = date_dimension.date_key \n",
    "                    AND date_dimension.start_year = 2019\n",
    "                GROUP BY location_dimension.state \n",
    "                HAVING COUNT(*) > media \n",
    "                )\n",
    "    GROUP BY date_dimension.start_year,location_dimension.state\n",
    "    ORDER BY location_dimension.state\n",
    "``"
   ]
  },
  {
   "cell_type": "markdown",
   "metadata": {},
   "source": [
    "**Plano gráfico de execução sem otimização**"
   ]
  },
  {
   "cell_type": "code",
   "execution_count": 24,
   "metadata": {},
   "outputs": [
    {
     "data": {
      "text/html": [
       "<img src=\"https://docs.google.com/uc?export=download&id=1MVUFCA0yydlmMUAavwU6fSzplUYV-hdw\"/>"
      ],
      "text/plain": [
       "<IPython.core.display.Image object>"
      ]
     },
     "execution_count": 24,
     "metadata": {},
     "output_type": "execute_result"
    }
   ],
   "source": [
    "Image(url= \"https://docs.google.com/uc?export=download&id=1MVUFCA0yydlmMUAavwU6fSzplUYV-hdw\")"
   ]
  },
  {
   "cell_type": "markdown",
   "metadata": {},
   "source": [
    "**Plano descritivo de execução sem otimização**"
   ]
  },
  {
   "cell_type": "code",
   "execution_count": 25,
   "metadata": {},
   "outputs": [
    {
     "data": {
      "text/html": [
       "<img src=\"https://docs.google.com/uc?export=download&id=1uqmCQPB6AYHms2B72J3f7bnj9s4MaQO9\"/>"
      ],
      "text/plain": [
       "<IPython.core.display.Image object>"
      ]
     },
     "execution_count": 25,
     "metadata": {},
     "output_type": "execute_result"
    }
   ],
   "source": [
    "Image(url= \"https://docs.google.com/uc?export=download&id=1uqmCQPB6AYHms2B72J3f7bnj9s4MaQO9\")"
   ]
  },
  {
   "cell_type": "markdown",
   "metadata": {},
   "source": [
    "**Ações de melhoria**\n",
    "\n",
    "* Uma das operações com custo maior é a comparação ```location_dimension.location_key = facts_table.locationkey ```, sendo que ao criar um index para chave secundária ```locationkey```  teoricamente devemos conseguir reduzir o custo comparando com leirura sequencial. \n",
    "\n",
    "* Outra optimização baseia-se na pesquisa da tabela ```data_dimension``` na coluna ```start_year```. Ao criar um index para star_year é possivel reduzir o custo da procura. \n",
    "\n",
    "**`CREATE INDEX start_year_idx ON date_dimension(start_year)`**\n",
    "\n",
    "**`CREATE INDEX location_idx ON facts_table(locationkey)`**"
   ]
  },
  {
   "cell_type": "markdown",
   "metadata": {},
   "source": [
    "**Plano gráfico de execução otimizado**"
   ]
  },
  {
   "cell_type": "code",
   "execution_count": 26,
   "metadata": {},
   "outputs": [
    {
     "data": {
      "text/html": [
       "<img src=\"https://docs.google.com/uc?export=download&id=1otmj9m1Z9RHxQP4G713d0hejjsGEse-O\"/>"
      ],
      "text/plain": [
       "<IPython.core.display.Image object>"
      ]
     },
     "execution_count": 26,
     "metadata": {},
     "output_type": "execute_result"
    }
   ],
   "source": [
    "Image(url= \"https://docs.google.com/uc?export=download&id=1otmj9m1Z9RHxQP4G713d0hejjsGEse-O\")"
   ]
  },
  {
   "cell_type": "markdown",
   "metadata": {},
   "source": [
    "**Plano descritivo de execução otimizado**"
   ]
  },
  {
   "cell_type": "code",
   "execution_count": 31,
   "metadata": {},
   "outputs": [
    {
     "data": {
      "text/html": [
       "<img src=\"https://docs.google.com/uc?export=download&id=1HT55iMTIFRZL9vuPsYzkAWrJnGtf4H7P\"/>"
      ],
      "text/plain": [
       "<IPython.core.display.Image object>"
      ]
     },
     "execution_count": 31,
     "metadata": {},
     "output_type": "execute_result"
    }
   ],
   "source": [
    "Image(url= \"https://docs.google.com/uc?export=download&id=1HT55iMTIFRZL9vuPsYzkAWrJnGtf4H7P\")"
   ]
  },
  {
   "cell_type": "markdown",
   "metadata": {},
   "source": [
    "* Embora se esperasse que houvesse uma redução no custo, e sabendo que o *query planner* usa os dois *indexes* referidos, este custo acaba por ser bastante reduzido em relação ao que era esperado."
   ]
  },
  {
   "cell_type": "markdown",
   "metadata": {},
   "source": [
    "### 2.5 Ações gerais de otimização"
   ]
  },
  {
   "cell_type": "markdown",
   "metadata": {},
   "source": [
    "Outras ações que podiam ser efetuadas a nível físico, embora envolvam a alteração do *schema* (tal não é possível por restrições temporais da entrega), referem-se à reformulação de várias dimensões para a redução do  volume das suas tabelas.\n",
    "\n",
    "Neste caso, temos sete tabelas cujo crescimento é acompanhado da inserção de novos registos:\n",
    "1. Date\n",
    "2. LocalTime\n",
    "3. StandardTime\n",
    "4. Location\n",
    "5. Weather\n",
    "6. POI\n",
    "7. FactsTable\n",
    "\n",
    "A tabela de factos não é possível de ser alterada visto que cada linha corresponde a um facto, ou seja, um registo de acidente. No entanto, todas as outras poderiam ser reformuladas de forma com uma redução significativa de armazenamento.\n",
    "\n",
    "1. Date\n",
    "    * Cada linha corresponder a uma combinação (`StartDay`, `StartMonth`, `StartYear`, `EndDay`, `EndMonth`, `EndYear`), o que implica que a cada ano, a tabela crescesse, nas piores condições, $365 \\times 365 \\approx 133000$ registos por ano, OU;\n",
    "    * Definição de uma tabela com apenas combinações (`Day`, `Month`, `Year`), sendo que a tabela de factos iria ter duas chaves estrangeiras a apontar para esta tabela, que apenas iria crescer ao nível de 365 registos por ano.\n",
    "\n",
    "\n",
    "2. LocalTime\n",
    "    * Cada linha corresponder a uma combinação (`Hour`, `Minute`, `Second`, `Timezone`), sendo que esta tabela, invariável, iria ter $86400 \\times 4  \\ timezones = 364500$ registos no total.\n",
    "    * Outra possibilidade envolveria criar também uma dimensão relativa às Timezones, sendo que a tabela de factos partilharia a chave com essa tabela, reduzindo o tamanho de LocalTime para 86400 registos.\n",
    "    \n",
    "    \n",
    "3. StandardTime\n",
    "    * Proceder de forma semelhante a `LocalTime`, onde cada linha teria uma combinação (`Hour`, `Minute`, `Second`), dado que só existe um timezone standard.\n",
    "    \n",
    "    \n",
    "4. Location\n",
    "    * Não inferimos qualquer alteração que pudesse ser feita sobre a dimensão.\n",
    "\n",
    "\n",
    "5. Weather\n",
    "    * Visto que a dimensão agrega atributos de caráter categórico, uma possível abordagem implicaria que cada registo fosse uma possível combinação (`Temperature`, `Visibility`, `Humidity`, `Wind Direction`, `Wind Speed`, `Precipitation`, `Weather Condition`). Embora criasse um número relativamente alto de combinações, mais uma vez estas seriam invariáveis e não muito inferiores ao número de acontecimentos presentes no dataset.\n",
    "    \n",
    "    \n",
    "6. POI\n",
    "    * Neste caso estamos a lidar apenas com atributos de caráter binário. Logo, uma abordagem menos custosa seria a de definir cada linha como uma possível combinação dos vários atributos desta dimensão. Visto que, tirando a chave primária, temos 13 atributos, esta tabela passaria a ter $2^{13} = 8192$ registos, sendo ela também estática."
   ]
  },
  {
   "cell_type": "markdown",
   "metadata": {},
   "source": [
    "### 2.6 Previsão e gestão do crescimento do Data Warehouse"
   ]
  },
  {
   "cell_type": "markdown",
   "metadata": {},
   "source": [
    "Sendo esta uma base de dados vocacionada para a análise de sinistros automóveis num território tão vasto como o dos Estados Unidos, onde ocorrem cerca de 6 milhões de sinistros automóveis por ano (fonte: *NTHSA  (2016)*), é de esperar que o crescimento deste data warehouse seja em torno dessa ordem de grandeza. Esta projeção está envolta em alguma variabilidade no curto prazo decorrente de alterações de padrões de consumo por razões económicas, e no médio/longo prazo por alterações culturais, de mobilidade ou tecnológicas. A 5 e 10 anos é portanto de esperar que o número de sinistros registados aumente em 30 e 60 milhões de registos, respetivamente.\n",
    "\n",
    "Como referido na fase anterior, para 3 milhões de registos de acidentes, foi estimado um custo associado de ~9 GB. Este custo não contabiliza a inserção dos *indexes* criados nesta fase.\n",
    "\n",
    "Em termos físicos, calculou-se um custo físico por novo registo de 1.86 kB, o que, verificando-se o aumento em número de registos anteriormente descrito, significa um custo físico a 1 ano de cerca de **10.64 GB**, a 5 anos de **53.2 GB** e a 10 anos de **106.4 GB**. \n",
    "\n",
    "No entanto, com as alterações propostas no ponto anterior (2.5), este custo baixaria consideravelmente, visto que grande parte das tabelas se tornariam constantes em termos de armazenamento, sendo que a apenas a tabela de factos e a dimensão Location aumentariam a cada registo de acidente inserido.\n",
    "\n",
    "Em termos de gestão do crescimento do Data Warehouse, e tendo em conta que as maiores tabelas após as alterações previstas no ponto 2.5 serão a `facts_table` e a `location_dimension`, a realização de *data compression* de ambas poderá ser uma boa solução. Uma proposta que parece viável para a partição da dimensão Location, dada a distribuição de acidentes e possíveis questões relativamente a velocidade de acessos, seria a partição da tabela pelas várias **subregiões** (atributo `Subregion`). Em termos da `facts_table`, e sabendo sensivelmente o número de registos que são criados por ano, o atributo `DateKey` seria prático para definir **várias partições ao ano**."
   ]
  },
  {
   "cell_type": "markdown",
   "metadata": {},
   "source": [
    "## 3. Discussão crítica das fases do projeto"
   ]
  },
  {
   "cell_type": "markdown",
   "metadata": {},
   "source": [
    "### 3.1. **Fase 1** \n",
    "* **O que correu bem?**\n",
    "    * Definição de um *star schema* sólido, com dimensões bem definidas.\n",
    "    * Bom uso de *datasets* externos para extração de informação relevante.\n",
    "    * Boa identificação de interrogações OLAP.\n",
    "* **O que correu mal?**\n",
    "    * Dificuldade em identificar o tamanho dos dados, processos de negócio relevantes e o próprio grão da tabela de factos.\n",
    "\n",
    "\n",
    "### 3.2. **Fase 2** \n",
    "* **O que correu bem?**\n",
    "    * Tivemos facilidade em fazer o carregamento dos datasets externos e o pré-processamento dos dados que havia sido proposto na Fase 1.\n",
    "    * Correção dos pontos nos quais tivemos maior dificuldade na fase anterior.\n",
    "    * Criação de um *notebook* que explica de forma explícita todo o processo de carregamento.\n",
    "    * Identificação de hierarquias de dados.\n",
    "* **O que correu mal?**\n",
    "    * Carregamento pouco eficiente dos dados, visto que muitas tabelas ficaram com volume elevado quando poderiam ter sido exploradas outras alternativas.\n",
    "\n",
    "\n",
    "### 3.3. **Fase 3** \n",
    "* **O que correu bem?**\n",
    "    * Identificação atempada dos problemas introduzidos da fase anterior, sendo que propusemos alternativas mais eficientes e bem justificadas.\n",
    "    * Criação de interrogações relevantes, focadas nos processos de negócio que foram identificadas na Bus Matrix.\n",
    "    * Teoricamente, fizemos a aplicação correta dos *indexes* referidos na secção anterior.\n",
    "* **O que correu mal?**\n",
    "    * Alguns *indexes* não propuseram resultados desejados. \n",
    "    * Falta de uso de outras técnicas além dos *indexes*, visto que estes ofereceram resultados práticos, não nos levando a avaliar outras opções.\n"
   ]
  }
 ],
 "metadata": {
  "kernelspec": {
   "display_name": "Python 3",
   "language": "python",
   "name": "python3"
  },
  "language_info": {
   "codemirror_mode": {
    "name": "ipython",
    "version": 3
   },
   "file_extension": ".py",
   "mimetype": "text/x-python",
   "name": "python",
   "nbconvert_exporter": "python",
   "pygments_lexer": "ipython3",
   "version": "3.7.5"
  }
 },
 "nbformat": 4,
 "nbformat_minor": 2
}
